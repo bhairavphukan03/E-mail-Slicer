{
  "nbformat": 4,
  "nbformat_minor": 0,
  "metadata": {
    "colab": {
      "name": "E-mail Slicer",
      "provenance": []
    },
    "kernelspec": {
      "name": "python3",
      "display_name": "Python 3"
    },
    "language_info": {
      "name": "python"
    }
  },
  "cells": [
    {
      "cell_type": "markdown",
      "source": [
        "**E-mail Slicer** :\n",
        "\n",
        "Getting an email ID as input and slicing it into username and domain name. "
      ],
      "metadata": {
        "id": "LLkx3bRbPIe5"
      }
    },
    {
      "cell_type": "code",
      "source": [
        "email = input(\"Enter Your Email: \").strip()\n",
        "username = email[:email.index('@')]\n",
        "domain = email[email.index('@') + 1:]"
      ],
      "metadata": {
        "colab": {
          "base_uri": "https://localhost:8080/"
        },
        "id": "Vv92KgSjPVjU",
        "outputId": "df57f038-3aa3-40f1-d568-335c955572fe"
      },
      "execution_count": 6,
      "outputs": [
        {
          "name": "stdout",
          "output_type": "stream",
          "text": [
            "Enter Your Email: dev.carol@gmail.com\n"
          ]
        }
      ]
    }
  ]
}